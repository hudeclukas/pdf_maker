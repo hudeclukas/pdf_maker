{
 "cells": [
  {
   "cell_type": "code",
   "execution_count": 1,
   "metadata": {
    "collapsed": true
   },
   "outputs": [],
   "source": [
    "import os\n",
    "\n",
    "from PyPDF2 import PdfFileReader, PdfFileWriter\n",
    "from PyPDF2.generic import DecodedStreamObject, NameObject, DictionaryObject, createStringObject, ArrayObject\n",
    "from tqdm import tqdm"
   ]
  },
  {
   "cell_type": "code",
   "execution_count": 2,
   "outputs": [],
   "source": [
    "path = 'Diplomova Praca.pdf'\n"
   ],
   "metadata": {
    "collapsed": false,
    "pycharm": {
     "name": "#%%\n"
    }
   }
  },
  {
   "cell_type": "code",
   "execution_count": 8,
   "outputs": [],
   "source": [
    "usb = 'G:/Prilohy/'\n",
    "attachments_list = os.listdir(usb)\n",
    "attachments_list = list(map(lambda x: os.path.join(usb,x), attachments_list))\n",
    "\n",
    "attachments_list = sorted(attachments_list, key=lambda x: str.split(x)[-1])"
   ],
   "metadata": {
    "collapsed": false,
    "pycharm": {
     "name": "#%%\n"
    }
   }
  },
  {
   "cell_type": "code",
   "execution_count": 4,
   "outputs": [],
   "source": [
    "def appendAttachment(myPdfFileWriterObj, fname, fdata):\n",
    "    # The entry for the file\n",
    "    file_entry = DecodedStreamObject()\n",
    "    file_entry.setData(fdata)\n",
    "    file_entry.update({NameObject(\"/Type\"): NameObject(\"/EmbeddedFile\")})\n",
    "\n",
    "    # The Filespec entry\n",
    "    efEntry = DictionaryObject()\n",
    "    efEntry.update({ NameObject(\"/F\"):file_entry })\n",
    "\n",
    "    filespec = DictionaryObject()\n",
    "    filespec.update({NameObject(\"/Type\"): NameObject(\"/Filespec\"),NameObject(\"/F\"): createStringObject(fname),NameObject(\"/EF\"): efEntry})\n",
    "\n",
    "    if \"/Names\" not in myPdfFileWriterObj._root_object.keys():\n",
    "        # No files attached yet. Create the entry for the root, as it needs a reference to the Filespec\n",
    "        embeddedFilesNamesDictionary = DictionaryObject()\n",
    "        embeddedFilesNamesDictionary.update({NameObject(\"/Names\"): ArrayObject([createStringObject(fname), filespec])})\n",
    "\n",
    "        embeddedFilesDictionary = DictionaryObject()\n",
    "        embeddedFilesDictionary.update({NameObject(\"/EmbeddedFiles\"): embeddedFilesNamesDictionary})\n",
    "        myPdfFileWriterObj._root_object.update({NameObject(\"/Names\"): embeddedFilesDictionary})\n",
    "    else:\n",
    "        # There are files already attached. Append the new file.\n",
    "        myPdfFileWriterObj._root_object[\"/Names\"][\"/EmbeddedFiles\"][\"/Names\"].append(createStringObject(fname))\n",
    "        myPdfFileWriterObj._root_object[\"/Names\"][\"/EmbeddedFiles\"][\"/Names\"].append(filespec)\n",
    "\n"
   ],
   "metadata": {
    "collapsed": false,
    "pycharm": {
     "name": "#%%\n"
    }
   }
  },
  {
   "cell_type": "code",
   "execution_count": 10,
   "outputs": [
    {
     "name": "stderr",
     "output_type": "stream",
     "text": [
      "100%|██████████| 33/33 [00:45<00:00,  1.38s/it]\n"
     ]
    }
   ],
   "source": [
    "fr = PdfFileReader(path)\n",
    "fw = PdfFileWriter()\n",
    "fw.appendPagesFromReader(fr)\n",
    "\n",
    "for my_test in tqdm(attachments_list):\n",
    "    with open(my_test, 'rb') as my_test_attachment:\n",
    "        my_test_data = my_test_attachment.read()\n",
    "    appendAttachment(fw, my_test, my_test_data)\n",
    "\n",
    "with open('dummy_new.pdf','wb') as file:\n",
    "    fw.write(file)"
   ],
   "metadata": {
    "collapsed": false,
    "pycharm": {
     "name": "#%%\n"
    }
   }
  }
 ],
 "metadata": {
  "kernelspec": {
   "display_name": "Python 3",
   "language": "python",
   "name": "python3"
  },
  "language_info": {
   "codemirror_mode": {
    "name": "ipython",
    "version": 2
   },
   "file_extension": ".py",
   "mimetype": "text/x-python",
   "name": "python",
   "nbconvert_exporter": "python",
   "pygments_lexer": "ipython2",
   "version": "2.7.6"
  }
 },
 "nbformat": 4,
 "nbformat_minor": 0
}